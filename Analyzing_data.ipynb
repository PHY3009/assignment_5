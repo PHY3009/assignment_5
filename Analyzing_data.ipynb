{
 "cells": [
  {
   "cell_type": "code",
   "execution_count": 50,
   "metadata": {
    "collapsed": true
   },
   "outputs": [],
   "source": [
    "# import the pandas library\n",
    "import pandas as pd \n",
    "\n",
    "# show plots in the notebook\n",
    "%matplotlib inline \n",
    "\n",
    "# this limit the data that will be shown, so I won't be seeing a huge dataset, but the first and last few\n",
    "from pandas import set_option\n",
    "set_option('display.max_rows',6)"
   ]
  },
  {
   "cell_type": "code",
   "execution_count": 51,
   "metadata": {
    "collapsed": false
   },
   "outputs": [
    {
     "data": {
      "text/html": [
       "<div>\n",
       "<table border=\"1\" class=\"dataframe\">\n",
       "  <thead>\n",
       "    <tr style=\"text-align: right;\">\n",
       "      <th></th>\n",
       "      <th>VALUE</th>\n",
       "      <th>COUNT</th>\n",
       "      <th>AREA</th>\n",
       "      <th>MIN</th>\n",
       "      <th>MAX</th>\n",
       "      <th>RANGE</th>\n",
       "      <th>MEAN</th>\n",
       "      <th>STD</th>\n",
       "      <th>SUM</th>\n",
       "    </tr>\n",
       "  </thead>\n",
       "  <tbody>\n",
       "    <tr>\n",
       "      <th>0</th>\n",
       "      <td>1</td>\n",
       "      <td>5027766</td>\n",
       "      <td>0.722193</td>\n",
       "      <td>-99.90</td>\n",
       "      <td>20.88</td>\n",
       "      <td>120.78</td>\n",
       "      <td>11.12530</td>\n",
       "      <td>25.130000</td>\n",
       "      <td>55935200.00</td>\n",
       "    </tr>\n",
       "    <tr>\n",
       "      <th>1</th>\n",
       "      <td>2</td>\n",
       "      <td>1515456</td>\n",
       "      <td>0.217682</td>\n",
       "      <td>-99.90</td>\n",
       "      <td>20.88</td>\n",
       "      <td>120.78</td>\n",
       "      <td>14.51680</td>\n",
       "      <td>14.574300</td>\n",
       "      <td>21999600.00</td>\n",
       "    </tr>\n",
       "    <tr>\n",
       "      <th>2</th>\n",
       "      <td>3</td>\n",
       "      <td>1099428</td>\n",
       "      <td>0.157923</td>\n",
       "      <td>-99.90</td>\n",
       "      <td>20.88</td>\n",
       "      <td>120.78</td>\n",
       "      <td>14.66240</td>\n",
       "      <td>11.398700</td>\n",
       "      <td>16120200.00</td>\n",
       "    </tr>\n",
       "    <tr>\n",
       "      <th>...</th>\n",
       "      <td>...</td>\n",
       "      <td>...</td>\n",
       "      <td>...</td>\n",
       "      <td>...</td>\n",
       "      <td>...</td>\n",
       "      <td>...</td>\n",
       "      <td>...</td>\n",
       "      <td>...</td>\n",
       "      <td>...</td>\n",
       "    </tr>\n",
       "    <tr>\n",
       "      <th>76</th>\n",
       "      <td>77</td>\n",
       "      <td>236</td>\n",
       "      <td>0.000034</td>\n",
       "      <td>0.51</td>\n",
       "      <td>3.15</td>\n",
       "      <td>2.64</td>\n",
       "      <td>1.46449</td>\n",
       "      <td>0.995280</td>\n",
       "      <td>345.62</td>\n",
       "    </tr>\n",
       "    <tr>\n",
       "      <th>77</th>\n",
       "      <td>78</td>\n",
       "      <td>59</td>\n",
       "      <td>0.000008</td>\n",
       "      <td>0.51</td>\n",
       "      <td>2.25</td>\n",
       "      <td>1.74</td>\n",
       "      <td>1.12932</td>\n",
       "      <td>0.833103</td>\n",
       "      <td>66.63</td>\n",
       "    </tr>\n",
       "    <tr>\n",
       "      <th>78</th>\n",
       "      <td>79</td>\n",
       "      <td>15</td>\n",
       "      <td>0.000002</td>\n",
       "      <td>0.51</td>\n",
       "      <td>0.51</td>\n",
       "      <td>0.00</td>\n",
       "      <td>0.51000</td>\n",
       "      <td>0.000000</td>\n",
       "      <td>7.65</td>\n",
       "    </tr>\n",
       "  </tbody>\n",
       "</table>\n",
       "<p>79 rows × 9 columns</p>\n",
       "</div>"
      ],
      "text/plain": [
       "    VALUE    COUNT      AREA    MIN    MAX   RANGE      MEAN        STD  \\\n",
       "0       1  5027766  0.722193 -99.90  20.88  120.78  11.12530  25.130000   \n",
       "1       2  1515456  0.217682 -99.90  20.88  120.78  14.51680  14.574300   \n",
       "2       3  1099428  0.157923 -99.90  20.88  120.78  14.66240  11.398700   \n",
       "..    ...      ...       ...    ...    ...     ...       ...        ...   \n",
       "76     77      236  0.000034   0.51   3.15    2.64   1.46449   0.995280   \n",
       "77     78       59  0.000008   0.51   2.25    1.74   1.12932   0.833103   \n",
       "78     79       15  0.000002   0.51   0.51    0.00   0.51000   0.000000   \n",
       "\n",
       "          SUM\\r  \n",
       "0   55935200.00  \n",
       "1   21999600.00  \n",
       "2   16120200.00  \n",
       "..          ...  \n",
       "76       345.62  \n",
       "77        66.63  \n",
       "78         7.65  \n",
       "\n",
       "[79 rows x 9 columns]"
      ]
     },
     "execution_count": 51,
     "metadata": {},
     "output_type": "execute_result"
    }
   ],
   "source": [
    "# load dataset\n",
    "filename = 't198201_elev.csv'\n",
    "\n",
    "temp82_01 = pd.read_csv(filename, sep=',')\n",
    "temp82_01"
   ]
  },
  {
   "cell_type": "markdown",
   "metadata": {},
   "source": [
    "I choose to use the pandas library because my dataset is relatively large. This single dataset is small, but for the final research dataset will be huge. This dataset is only containing the information for temperature in January 1982. I have 31 years of data (temperature, vegetation, and rainfall from 1982 to 2012), therefore I choose to use Pandas in order to work with large dataset. \n",
    "For this dataset (January 1982), I load the data with pandas and I used the seperator (sep=\",\") becuase the dataset is comma separated (not space or tab). "
   ]
  },
  {
   "cell_type": "code",
   "execution_count": 46,
   "metadata": {
    "collapsed": false
   },
   "outputs": [
    {
     "name": "stdout",
     "output_type": "stream",
     "text": [
      "7.768136835443035\n"
     ]
    }
   ],
   "source": [
    "print(temp82_01['MEAN'].mean())"
   ]
  },
  {
   "cell_type": "markdown",
   "metadata": {},
   "source": [
    "Here I use take the average of the January 1982 temperature in all elevation. By taking the average of the entire temprature data at January 1982, I can potentially compare the temperature data for all January from 1982 to 2012 and look at an increasing trend or decreasing trend for temperature. Here, it shows me that the average temperature in January 1982 is around 7.77 degrees Celsisu in all elevation."
   ]
  },
  {
   "cell_type": "code",
   "execution_count": 30,
   "metadata": {
    "collapsed": false
   },
   "outputs": [
    {
     "data": {
      "text/plain": [
       "<matplotlib.axes._subplots.AxesSubplot at 0x108fbe710>"
      ]
     },
     "execution_count": 30,
     "metadata": {},
     "output_type": "execute_result"
    },
    {
     "data": {
      "image/png": "[encoded data removed]",
      "text/plain": [
       "<matplotlib.figure.Figure at 0x108f98c88>"
      ]
     },
     "metadata": {},
     "output_type": "display_data"
    }
   ],
   "source": [
    "temp82_01['MEAN'].plot()"
   ]
  },
  {
   "cell_type": "markdown",
   "metadata": {},
   "source": [
    "Here I use the plot command to see the temperature trend in January 1982. The x-axis represent elevation (1 = 0-50m, 2=50-100m, 3=100-150m, and so on). Using the plot command we can see how temperature changes in different elevation. It shows that temperature decreases with higher elevation, which makes sense. "
   ]
  },
  {
   "cell_type": "code",
   "execution_count": 52,
   "metadata": {
    "collapsed": false
   },
   "outputs": [],
   "source": [
    "temp82_01['Elevation (m)']=temp82_01['VALUE']*50"
   ]
  },
  {
   "cell_type": "markdown",
   "metadata": {},
   "source": [
    "The dataset does not have a elevation column. Instead, the dataset uses VALUE as elevation (1 = 0-50m, 2=50-100m, 3=100-150m, and so on). This is not very clear, so I decided to add a new column call elevation. I believe this would be easier to understand the dataset (more straightforward, less confusion). Therefore, I created a column called \"Eelvation (m)\". Then I multiply the VALUE by 50 to get the elevation (50,100,150,200 and so on)."
   ]
  },
  {
   "cell_type": "code",
   "execution_count": 53,
   "metadata": {
    "collapsed": false
   },
   "outputs": [
    {
     "data": {
      "text/html": [
       "<div>\n",
       "<table border=\"1\" class=\"dataframe\">\n",
       "  <thead>\n",
       "    <tr style=\"text-align: right;\">\n",
       "      <th></th>\n",
       "      <th>VALUE</th>\n",
       "      <th>COUNT</th>\n",
       "      <th>AREA</th>\n",
       "      <th>MIN</th>\n",
       "      <th>MAX</th>\n",
       "      <th>RANGE</th>\n",
       "      <th>MEAN</th>\n",
       "      <th>STD</th>\n",
       "      <th>SUM</th>\n",
       "      <th>Elevation (m)</th>\n",
       "    </tr>\n",
       "  </thead>\n",
       "  <tbody>\n",
       "    <tr>\n",
       "      <th>0</th>\n",
       "      <td>1</td>\n",
       "      <td>5027766</td>\n",
       "      <td>0.722193</td>\n",
       "      <td>-99.90</td>\n",
       "      <td>20.88</td>\n",
       "      <td>120.78</td>\n",
       "      <td>11.12530</td>\n",
       "      <td>25.130000</td>\n",
       "      <td>55935200.00</td>\n",
       "      <td>50</td>\n",
       "    </tr>\n",
       "    <tr>\n",
       "      <th>1</th>\n",
       "      <td>2</td>\n",
       "      <td>1515456</td>\n",
       "      <td>0.217682</td>\n",
       "      <td>-99.90</td>\n",
       "      <td>20.88</td>\n",
       "      <td>120.78</td>\n",
       "      <td>14.51680</td>\n",
       "      <td>14.574300</td>\n",
       "      <td>21999600.00</td>\n",
       "      <td>100</td>\n",
       "    </tr>\n",
       "    <tr>\n",
       "      <th>2</th>\n",
       "      <td>3</td>\n",
       "      <td>1099428</td>\n",
       "      <td>0.157923</td>\n",
       "      <td>-99.90</td>\n",
       "      <td>20.88</td>\n",
       "      <td>120.78</td>\n",
       "      <td>14.66240</td>\n",
       "      <td>11.398700</td>\n",
       "      <td>16120200.00</td>\n",
       "      <td>150</td>\n",
       "    </tr>\n",
       "    <tr>\n",
       "      <th>...</th>\n",
       "      <td>...</td>\n",
       "      <td>...</td>\n",
       "      <td>...</td>\n",
       "      <td>...</td>\n",
       "      <td>...</td>\n",
       "      <td>...</td>\n",
       "      <td>...</td>\n",
       "      <td>...</td>\n",
       "      <td>...</td>\n",
       "      <td>...</td>\n",
       "    </tr>\n",
       "    <tr>\n",
       "      <th>76</th>\n",
       "      <td>77</td>\n",
       "      <td>236</td>\n",
       "      <td>0.000034</td>\n",
       "      <td>0.51</td>\n",
       "      <td>3.15</td>\n",
       "      <td>2.64</td>\n",
       "      <td>1.46449</td>\n",
       "      <td>0.995280</td>\n",
       "      <td>345.62</td>\n",
       "      <td>3850</td>\n",
       "    </tr>\n",
       "    <tr>\n",
       "      <th>77</th>\n",
       "      <td>78</td>\n",
       "      <td>59</td>\n",
       "      <td>0.000008</td>\n",
       "      <td>0.51</td>\n",
       "      <td>2.25</td>\n",
       "      <td>1.74</td>\n",
       "      <td>1.12932</td>\n",
       "      <td>0.833103</td>\n",
       "      <td>66.63</td>\n",
       "      <td>3900</td>\n",
       "    </tr>\n",
       "    <tr>\n",
       "      <th>78</th>\n",
       "      <td>79</td>\n",
       "      <td>15</td>\n",
       "      <td>0.000002</td>\n",
       "      <td>0.51</td>\n",
       "      <td>0.51</td>\n",
       "      <td>0.00</td>\n",
       "      <td>0.51000</td>\n",
       "      <td>0.000000</td>\n",
       "      <td>7.65</td>\n",
       "      <td>3950</td>\n",
       "    </tr>\n",
       "  </tbody>\n",
       "</table>\n",
       "<p>79 rows × 10 columns</p>\n",
       "</div>"
      ],
      "text/plain": [
       "    VALUE    COUNT      AREA    MIN    MAX   RANGE      MEAN        STD  \\\n",
       "0       1  5027766  0.722193 -99.90  20.88  120.78  11.12530  25.130000   \n",
       "1       2  1515456  0.217682 -99.90  20.88  120.78  14.51680  14.574300   \n",
       "2       3  1099428  0.157923 -99.90  20.88  120.78  14.66240  11.398700   \n",
       "..    ...      ...       ...    ...    ...     ...       ...        ...   \n",
       "76     77      236  0.000034   0.51   3.15    2.64   1.46449   0.995280   \n",
       "77     78       59  0.000008   0.51   2.25    1.74   1.12932   0.833103   \n",
       "78     79       15  0.000002   0.51   0.51    0.00   0.51000   0.000000   \n",
       "\n",
       "          SUM\\r  Elevation (m)  \n",
       "0   55935200.00             50  \n",
       "1   21999600.00            100  \n",
       "2   16120200.00            150  \n",
       "..          ...            ...  \n",
       "76       345.62           3850  \n",
       "77        66.63           3900  \n",
       "78         7.65           3950  \n",
       "\n",
       "[79 rows x 10 columns]"
      ]
     },
     "execution_count": 53,
     "metadata": {},
     "output_type": "execute_result"
    }
   ],
   "source": [
    "temp82_01"
   ]
  },
  {
   "cell_type": "code",
   "execution_count": null,
   "metadata": {
    "collapsed": true
   },
   "outputs": [],
   "source": []
  }
 ],
 "metadata": {
  "kernelspec": {
   "display_name": "Python 3",
   "language": "python",
   "name": "python3"
  },
  "language_info": {
   "codemirror_mode": {
    "name": "ipython",
    "version": 3
   },
   "file_extension": ".py",
   "mimetype": "text/x-python",
   "name": "python",
   "nbconvert_exporter": "python",
   "pygments_lexer": "ipython3",
   "version": "3.4.3"
  }
 },
 "nbformat": 4,
 "nbformat_minor": 0
}
