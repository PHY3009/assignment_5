{
 "cells": [
  {
   "cell_type": "code",
   "execution_count": 2,
   "metadata": {
    "collapsed": true
   },
   "outputs": [],
   "source": [
    "#imports necessary libraries to load data\n",
    "import numpy as np, pandas as pd\n",
    "\n",
    "#display graphs in notebook\n",
    "%matplotlib inline\n",
    "\n",
    "#limits amount of lines that pandas will print\n",
    "from pandas import set_option\n",
    "set_option('display.max_rows', 4)"
   ]
  },
  {
   "cell_type": "markdown",
   "metadata": {},
   "source": [
    "####Loading Data\n",
    "To load my dataset, I used read excel because the data is stored in a .xslx file. However, initially I attempted to download and use the data as a csv file. There was an unknown error in loading the data using the.csv file, so I switched to .xslx. "
   ]
  },
  {
   "cell_type": "code",
   "execution_count": 35,
   "metadata": {
    "collapsed": false
   },
   "outputs": [],
   "source": [
    "#filepath for dataset\n",
    "filename = \"DRC_data.xlsx\"\n",
    "\n",
    "#loads data into pandas data frame\n",
    "data = pd.read_excel(filename, index_col = 'EVENT_DATE')\n",
    "\n",
    "#converts date to datetime\n",
    "data.index = pd.to_datetime(data.index)"
   ]
  },
  {
   "cell_type": "code",
   "execution_count": null,
   "metadata": {
    "collapsed": false
   },
   "outputs": [],
   "source": []
  },
  {
   "cell_type": "code",
   "execution_count": null,
   "metadata": {
    "collapsed": true
   },
   "outputs": [],
   "source": []
  },
  {
   "cell_type": "code",
   "execution_count": null,
   "metadata": {
    "collapsed": true
   },
   "outputs": [],
   "source": []
  },
  {
   "cell_type": "code",
   "execution_count": null,
   "metadata": {
    "collapsed": true
   },
   "outputs": [],
   "source": []
  }
 ],
 "metadata": {
  "kernelspec": {
   "display_name": "Python 3",
   "language": "python",
   "name": "python3"
  },
  "language_info": {
   "codemirror_mode": {
    "name": "ipython",
    "version": 3
   },
   "file_extension": ".py",
   "mimetype": "text/x-python",
   "name": "python",
   "nbconvert_exporter": "python",
   "pygments_lexer": "ipython3",
   "version": "3.4.3"
  }
 },
 "nbformat": 4,
 "nbformat_minor": 0
}
